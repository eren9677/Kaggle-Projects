{
 "cells": [
  {
   "cell_type": "code",
   "execution_count": 1,
   "id": "a7de1971",
   "metadata": {
    "_cell_guid": "b1076dfc-b9ad-4769-8c92-a6c4dae69d19",
    "_uuid": "8f2839f25d086af736a60e9eeb907d3b93b6e0e5",
    "execution": {
     "iopub.execute_input": "2022-11-21T16:51:47.541943Z",
     "iopub.status.busy": "2022-11-21T16:51:47.541488Z",
     "iopub.status.idle": "2022-11-21T16:51:47.555710Z",
     "shell.execute_reply": "2022-11-21T16:51:47.554462Z"
    },
    "papermill": {
     "duration": 0.026854,
     "end_time": "2022-11-21T16:51:47.558534",
     "exception": false,
     "start_time": "2022-11-21T16:51:47.531680",
     "status": "completed"
    },
    "tags": []
   },
   "outputs": [],
   "source": [
    "# This Python 3 environment comes with many helpful analytics libraries installed\n",
    "# It is defined by the kaggle/python Docker image: https://github.com/kaggle/docker-python\n",
    "# For example, here's several helpful packages to load\n",
    "\n",
    "import numpy as np # linear algebra\n",
    "import pandas as pd # data processing, CSV file I/O (e.g. pd.read_csv)\n",
    "\n",
    "# Input data files are available in the read-only \"../input/\" directory\n",
    "\n",
    "# You can write up to 20GB to the current directory (/kaggle/working/) that gets preserved as output when you create a version using \"Save & Run All\" \n",
    "# You can also write temporary files to /kaggle/temp/, but they won't be saved outside of the current session"
   ]
  },
  {
   "cell_type": "code",
   "execution_count": 2,
   "id": "8ae3941f",
   "metadata": {
    "execution": {
     "iopub.execute_input": "2022-11-21T16:51:47.573621Z",
     "iopub.status.busy": "2022-11-21T16:51:47.573219Z",
     "iopub.status.idle": "2022-11-21T16:51:47.611083Z",
     "shell.execute_reply": "2022-11-21T16:51:47.609578Z"
    },
    "papermill": {
     "duration": 0.049745,
     "end_time": "2022-11-21T16:51:47.615014",
     "exception": false,
     "start_time": "2022-11-21T16:51:47.565269",
     "status": "completed"
    },
    "tags": []
   },
   "outputs": [],
   "source": [
    "#getting data from kaggle\n",
    "titanic_data = pd.read_csv('train.csv')\n",
    "test_data = pd.read_csv('test.csv')"
   ]
  },
  {
   "cell_type": "code",
   "execution_count": 3,
   "id": "9922895b",
   "metadata": {
    "execution": {
     "iopub.execute_input": "2022-11-21T16:51:47.633590Z",
     "iopub.status.busy": "2022-11-21T16:51:47.633204Z",
     "iopub.status.idle": "2022-11-21T16:51:47.670525Z",
     "shell.execute_reply": "2022-11-21T16:51:47.669481Z"
    },
    "papermill": {
     "duration": 0.048552,
     "end_time": "2022-11-21T16:51:47.673094",
     "exception": false,
     "start_time": "2022-11-21T16:51:47.624542",
     "status": "completed"
    },
    "tags": []
   },
   "outputs": [
    {
     "name": "stderr",
     "output_type": "stream",
     "text": [
      "C:\\Users\\eren\\AppData\\Local\\Temp\\ipykernel_2664\\1312813952.py:2: FutureWarning: The default value of numeric_only in DataFrame.corr is deprecated. In a future version, it will default to False. Select only valid columns or specify the value of numeric_only to silence this warning.\n",
      "  titanic_data.corr()\n"
     ]
    },
    {
     "data": {
      "text/html": [
       "<div>\n",
       "<style scoped>\n",
       "    .dataframe tbody tr th:only-of-type {\n",
       "        vertical-align: middle;\n",
       "    }\n",
       "\n",
       "    .dataframe tbody tr th {\n",
       "        vertical-align: top;\n",
       "    }\n",
       "\n",
       "    .dataframe thead th {\n",
       "        text-align: right;\n",
       "    }\n",
       "</style>\n",
       "<table border=\"1\" class=\"dataframe\">\n",
       "  <thead>\n",
       "    <tr style=\"text-align: right;\">\n",
       "      <th></th>\n",
       "      <th>PassengerId</th>\n",
       "      <th>Survived</th>\n",
       "      <th>Pclass</th>\n",
       "      <th>Age</th>\n",
       "      <th>SibSp</th>\n",
       "      <th>Parch</th>\n",
       "      <th>Fare</th>\n",
       "    </tr>\n",
       "  </thead>\n",
       "  <tbody>\n",
       "    <tr>\n",
       "      <th>PassengerId</th>\n",
       "      <td>1.000000</td>\n",
       "      <td>-0.005007</td>\n",
       "      <td>-0.035144</td>\n",
       "      <td>0.036847</td>\n",
       "      <td>-0.057527</td>\n",
       "      <td>-0.001652</td>\n",
       "      <td>0.012658</td>\n",
       "    </tr>\n",
       "    <tr>\n",
       "      <th>Survived</th>\n",
       "      <td>-0.005007</td>\n",
       "      <td>1.000000</td>\n",
       "      <td>-0.338481</td>\n",
       "      <td>-0.077221</td>\n",
       "      <td>-0.035322</td>\n",
       "      <td>0.081629</td>\n",
       "      <td>0.257307</td>\n",
       "    </tr>\n",
       "    <tr>\n",
       "      <th>Pclass</th>\n",
       "      <td>-0.035144</td>\n",
       "      <td>-0.338481</td>\n",
       "      <td>1.000000</td>\n",
       "      <td>-0.369226</td>\n",
       "      <td>0.083081</td>\n",
       "      <td>0.018443</td>\n",
       "      <td>-0.549500</td>\n",
       "    </tr>\n",
       "    <tr>\n",
       "      <th>Age</th>\n",
       "      <td>0.036847</td>\n",
       "      <td>-0.077221</td>\n",
       "      <td>-0.369226</td>\n",
       "      <td>1.000000</td>\n",
       "      <td>-0.308247</td>\n",
       "      <td>-0.189119</td>\n",
       "      <td>0.096067</td>\n",
       "    </tr>\n",
       "    <tr>\n",
       "      <th>SibSp</th>\n",
       "      <td>-0.057527</td>\n",
       "      <td>-0.035322</td>\n",
       "      <td>0.083081</td>\n",
       "      <td>-0.308247</td>\n",
       "      <td>1.000000</td>\n",
       "      <td>0.414838</td>\n",
       "      <td>0.159651</td>\n",
       "    </tr>\n",
       "    <tr>\n",
       "      <th>Parch</th>\n",
       "      <td>-0.001652</td>\n",
       "      <td>0.081629</td>\n",
       "      <td>0.018443</td>\n",
       "      <td>-0.189119</td>\n",
       "      <td>0.414838</td>\n",
       "      <td>1.000000</td>\n",
       "      <td>0.216225</td>\n",
       "    </tr>\n",
       "    <tr>\n",
       "      <th>Fare</th>\n",
       "      <td>0.012658</td>\n",
       "      <td>0.257307</td>\n",
       "      <td>-0.549500</td>\n",
       "      <td>0.096067</td>\n",
       "      <td>0.159651</td>\n",
       "      <td>0.216225</td>\n",
       "      <td>1.000000</td>\n",
       "    </tr>\n",
       "  </tbody>\n",
       "</table>\n",
       "</div>"
      ],
      "text/plain": [
       "             PassengerId  Survived    Pclass       Age     SibSp     Parch  \\\n",
       "PassengerId     1.000000 -0.005007 -0.035144  0.036847 -0.057527 -0.001652   \n",
       "Survived       -0.005007  1.000000 -0.338481 -0.077221 -0.035322  0.081629   \n",
       "Pclass         -0.035144 -0.338481  1.000000 -0.369226  0.083081  0.018443   \n",
       "Age             0.036847 -0.077221 -0.369226  1.000000 -0.308247 -0.189119   \n",
       "SibSp          -0.057527 -0.035322  0.083081 -0.308247  1.000000  0.414838   \n",
       "Parch          -0.001652  0.081629  0.018443 -0.189119  0.414838  1.000000   \n",
       "Fare            0.012658  0.257307 -0.549500  0.096067  0.159651  0.216225   \n",
       "\n",
       "                 Fare  \n",
       "PassengerId  0.012658  \n",
       "Survived     0.257307  \n",
       "Pclass      -0.549500  \n",
       "Age          0.096067  \n",
       "SibSp        0.159651  \n",
       "Parch        0.216225  \n",
       "Fare         1.000000  "
      ]
     },
     "execution_count": 3,
     "metadata": {},
     "output_type": "execute_result"
    }
   ],
   "source": [
    "#checking the correlation\n",
    "titanic_data.corr()"
   ]
  },
  {
   "cell_type": "code",
   "execution_count": 4,
   "id": "19b7d7c5",
   "metadata": {
    "execution": {
     "iopub.execute_input": "2022-11-21T16:51:47.688521Z",
     "iopub.status.busy": "2022-11-21T16:51:47.688096Z",
     "iopub.status.idle": "2022-11-21T16:51:47.704386Z",
     "shell.execute_reply": "2022-11-21T16:51:47.703238Z"
    },
    "papermill": {
     "duration": 0.027016,
     "end_time": "2022-11-21T16:51:47.706962",
     "exception": false,
     "start_time": "2022-11-21T16:51:47.679946",
     "status": "completed"
    },
    "tags": []
   },
   "outputs": [
    {
     "data": {
      "text/html": [
       "<div>\n",
       "<style scoped>\n",
       "    .dataframe tbody tr th:only-of-type {\n",
       "        vertical-align: middle;\n",
       "    }\n",
       "\n",
       "    .dataframe tbody tr th {\n",
       "        vertical-align: top;\n",
       "    }\n",
       "\n",
       "    .dataframe thead th {\n",
       "        text-align: right;\n",
       "    }\n",
       "</style>\n",
       "<table border=\"1\" class=\"dataframe\">\n",
       "  <thead>\n",
       "    <tr style=\"text-align: right;\">\n",
       "      <th></th>\n",
       "      <th>PassengerId</th>\n",
       "      <th>Survived</th>\n",
       "      <th>Pclass</th>\n",
       "      <th>Name</th>\n",
       "      <th>Sex</th>\n",
       "      <th>Age</th>\n",
       "      <th>SibSp</th>\n",
       "      <th>Parch</th>\n",
       "      <th>Ticket</th>\n",
       "      <th>Fare</th>\n",
       "      <th>Cabin</th>\n",
       "      <th>Embarked</th>\n",
       "    </tr>\n",
       "  </thead>\n",
       "  <tbody>\n",
       "    <tr>\n",
       "      <th>0</th>\n",
       "      <td>1</td>\n",
       "      <td>0</td>\n",
       "      <td>3</td>\n",
       "      <td>Braund, Mr. Owen Harris</td>\n",
       "      <td>male</td>\n",
       "      <td>22.0</td>\n",
       "      <td>1</td>\n",
       "      <td>0</td>\n",
       "      <td>A/5 21171</td>\n",
       "      <td>7.2500</td>\n",
       "      <td>NaN</td>\n",
       "      <td>S</td>\n",
       "    </tr>\n",
       "    <tr>\n",
       "      <th>1</th>\n",
       "      <td>2</td>\n",
       "      <td>1</td>\n",
       "      <td>1</td>\n",
       "      <td>Cumings, Mrs. John Bradley (Florence Briggs Th...</td>\n",
       "      <td>female</td>\n",
       "      <td>38.0</td>\n",
       "      <td>1</td>\n",
       "      <td>0</td>\n",
       "      <td>PC 17599</td>\n",
       "      <td>71.2833</td>\n",
       "      <td>C85</td>\n",
       "      <td>C</td>\n",
       "    </tr>\n",
       "    <tr>\n",
       "      <th>2</th>\n",
       "      <td>3</td>\n",
       "      <td>1</td>\n",
       "      <td>3</td>\n",
       "      <td>Heikkinen, Miss. Laina</td>\n",
       "      <td>female</td>\n",
       "      <td>26.0</td>\n",
       "      <td>0</td>\n",
       "      <td>0</td>\n",
       "      <td>STON/O2. 3101282</td>\n",
       "      <td>7.9250</td>\n",
       "      <td>NaN</td>\n",
       "      <td>S</td>\n",
       "    </tr>\n",
       "    <tr>\n",
       "      <th>3</th>\n",
       "      <td>4</td>\n",
       "      <td>1</td>\n",
       "      <td>1</td>\n",
       "      <td>Futrelle, Mrs. Jacques Heath (Lily May Peel)</td>\n",
       "      <td>female</td>\n",
       "      <td>35.0</td>\n",
       "      <td>1</td>\n",
       "      <td>0</td>\n",
       "      <td>113803</td>\n",
       "      <td>53.1000</td>\n",
       "      <td>C123</td>\n",
       "      <td>S</td>\n",
       "    </tr>\n",
       "    <tr>\n",
       "      <th>4</th>\n",
       "      <td>5</td>\n",
       "      <td>0</td>\n",
       "      <td>3</td>\n",
       "      <td>Allen, Mr. William Henry</td>\n",
       "      <td>male</td>\n",
       "      <td>35.0</td>\n",
       "      <td>0</td>\n",
       "      <td>0</td>\n",
       "      <td>373450</td>\n",
       "      <td>8.0500</td>\n",
       "      <td>NaN</td>\n",
       "      <td>S</td>\n",
       "    </tr>\n",
       "  </tbody>\n",
       "</table>\n",
       "</div>"
      ],
      "text/plain": [
       "   PassengerId  Survived  Pclass  \\\n",
       "0            1         0       3   \n",
       "1            2         1       1   \n",
       "2            3         1       3   \n",
       "3            4         1       1   \n",
       "4            5         0       3   \n",
       "\n",
       "                                                Name     Sex   Age  SibSp  \\\n",
       "0                            Braund, Mr. Owen Harris    male  22.0      1   \n",
       "1  Cumings, Mrs. John Bradley (Florence Briggs Th...  female  38.0      1   \n",
       "2                             Heikkinen, Miss. Laina  female  26.0      0   \n",
       "3       Futrelle, Mrs. Jacques Heath (Lily May Peel)  female  35.0      1   \n",
       "4                           Allen, Mr. William Henry    male  35.0      0   \n",
       "\n",
       "   Parch            Ticket     Fare Cabin Embarked  \n",
       "0      0         A/5 21171   7.2500   NaN        S  \n",
       "1      0          PC 17599  71.2833   C85        C  \n",
       "2      0  STON/O2. 3101282   7.9250   NaN        S  \n",
       "3      0            113803  53.1000  C123        S  \n",
       "4      0            373450   8.0500   NaN        S  "
      ]
     },
     "execution_count": 4,
     "metadata": {},
     "output_type": "execute_result"
    }
   ],
   "source": [
    "titanic_data.head()"
   ]
  },
  {
   "cell_type": "code",
   "execution_count": 5,
   "id": "ba2bebee",
   "metadata": {
    "execution": {
     "iopub.execute_input": "2022-11-21T16:51:47.723941Z",
     "iopub.status.busy": "2022-11-21T16:51:47.722582Z",
     "iopub.status.idle": "2022-11-21T16:51:47.759368Z",
     "shell.execute_reply": "2022-11-21T16:51:47.758375Z"
    },
    "papermill": {
     "duration": 0.048105,
     "end_time": "2022-11-21T16:51:47.762024",
     "exception": false,
     "start_time": "2022-11-21T16:51:47.713919",
     "status": "completed"
    },
    "tags": []
   },
   "outputs": [
    {
     "data": {
      "text/html": [
       "<div>\n",
       "<style scoped>\n",
       "    .dataframe tbody tr th:only-of-type {\n",
       "        vertical-align: middle;\n",
       "    }\n",
       "\n",
       "    .dataframe tbody tr th {\n",
       "        vertical-align: top;\n",
       "    }\n",
       "\n",
       "    .dataframe thead th {\n",
       "        text-align: right;\n",
       "    }\n",
       "</style>\n",
       "<table border=\"1\" class=\"dataframe\">\n",
       "  <thead>\n",
       "    <tr style=\"text-align: right;\">\n",
       "      <th></th>\n",
       "      <th>Name</th>\n",
       "      <th>Sex</th>\n",
       "      <th>Ticket</th>\n",
       "      <th>Cabin</th>\n",
       "      <th>Embarked</th>\n",
       "    </tr>\n",
       "  </thead>\n",
       "  <tbody>\n",
       "    <tr>\n",
       "      <th>count</th>\n",
       "      <td>891</td>\n",
       "      <td>891</td>\n",
       "      <td>891</td>\n",
       "      <td>204</td>\n",
       "      <td>889</td>\n",
       "    </tr>\n",
       "    <tr>\n",
       "      <th>unique</th>\n",
       "      <td>891</td>\n",
       "      <td>2</td>\n",
       "      <td>681</td>\n",
       "      <td>147</td>\n",
       "      <td>3</td>\n",
       "    </tr>\n",
       "    <tr>\n",
       "      <th>top</th>\n",
       "      <td>Braund, Mr. Owen Harris</td>\n",
       "      <td>male</td>\n",
       "      <td>347082</td>\n",
       "      <td>B96 B98</td>\n",
       "      <td>S</td>\n",
       "    </tr>\n",
       "    <tr>\n",
       "      <th>freq</th>\n",
       "      <td>1</td>\n",
       "      <td>577</td>\n",
       "      <td>7</td>\n",
       "      <td>4</td>\n",
       "      <td>644</td>\n",
       "    </tr>\n",
       "  </tbody>\n",
       "</table>\n",
       "</div>"
      ],
      "text/plain": [
       "                           Name   Sex  Ticket    Cabin Embarked\n",
       "count                       891   891     891      204      889\n",
       "unique                      891     2     681      147        3\n",
       "top     Braund, Mr. Owen Harris  male  347082  B96 B98        S\n",
       "freq                          1   577       7        4      644"
      ]
     },
     "execution_count": 5,
     "metadata": {},
     "output_type": "execute_result"
    }
   ],
   "source": [
    "#checking data desciption\n",
    "titanic_data.describe(include='object')"
   ]
  },
  {
   "cell_type": "code",
   "execution_count": 6,
   "id": "fa34e981",
   "metadata": {
    "execution": {
     "iopub.execute_input": "2022-11-21T16:51:47.781352Z",
     "iopub.status.busy": "2022-11-21T16:51:47.780427Z",
     "iopub.status.idle": "2022-11-21T16:51:47.787991Z",
     "shell.execute_reply": "2022-11-21T16:51:47.787139Z"
    },
    "papermill": {
     "duration": 0.01862,
     "end_time": "2022-11-21T16:51:47.790187",
     "exception": false,
     "start_time": "2022-11-21T16:51:47.771567",
     "status": "completed"
    },
    "tags": []
   },
   "outputs": [
    {
     "data": {
      "text/plain": [
       "(891, 12)"
      ]
     },
     "execution_count": 6,
     "metadata": {},
     "output_type": "execute_result"
    }
   ],
   "source": [
    "titanic_data.shape"
   ]
  },
  {
   "cell_type": "code",
   "execution_count": 7,
   "id": "fa6da497",
   "metadata": {
    "execution": {
     "iopub.execute_input": "2022-11-21T16:51:47.807786Z",
     "iopub.status.busy": "2022-11-21T16:51:47.806829Z",
     "iopub.status.idle": "2022-11-21T16:51:47.816460Z",
     "shell.execute_reply": "2022-11-21T16:51:47.815228Z"
    },
    "papermill": {
     "duration": 0.02113,
     "end_time": "2022-11-21T16:51:47.818759",
     "exception": false,
     "start_time": "2022-11-21T16:51:47.797629",
     "status": "completed"
    },
    "tags": []
   },
   "outputs": [
    {
     "data": {
      "text/plain": [
       "PassengerId      int64\n",
       "Survived         int64\n",
       "Pclass           int64\n",
       "Name            object\n",
       "Sex             object\n",
       "Age            float64\n",
       "SibSp            int64\n",
       "Parch            int64\n",
       "Ticket          object\n",
       "Fare           float64\n",
       "Cabin           object\n",
       "Embarked        object\n",
       "dtype: object"
      ]
     },
     "execution_count": 7,
     "metadata": {},
     "output_type": "execute_result"
    }
   ],
   "source": [
    "titanic_data.dtypes"
   ]
  },
  {
   "cell_type": "code",
   "execution_count": 8,
   "id": "c1f3f65a",
   "metadata": {
    "execution": {
     "iopub.execute_input": "2022-11-21T16:51:47.839135Z",
     "iopub.status.busy": "2022-11-21T16:51:47.838553Z",
     "iopub.status.idle": "2022-11-21T16:51:47.851532Z",
     "shell.execute_reply": "2022-11-21T16:51:47.850359Z"
    },
    "papermill": {
     "duration": 0.027478,
     "end_time": "2022-11-21T16:51:47.853761",
     "exception": false,
     "start_time": "2022-11-21T16:51:47.826283",
     "status": "completed"
    },
    "tags": []
   },
   "outputs": [
    {
     "data": {
      "text/html": [
       "<div>\n",
       "<style scoped>\n",
       "    .dataframe tbody tr th:only-of-type {\n",
       "        vertical-align: middle;\n",
       "    }\n",
       "\n",
       "    .dataframe tbody tr th {\n",
       "        vertical-align: top;\n",
       "    }\n",
       "\n",
       "    .dataframe thead th {\n",
       "        text-align: right;\n",
       "    }\n",
       "</style>\n",
       "<table border=\"1\" class=\"dataframe\">\n",
       "  <thead>\n",
       "    <tr style=\"text-align: right;\">\n",
       "      <th></th>\n",
       "      <th>0</th>\n",
       "    </tr>\n",
       "  </thead>\n",
       "  <tbody>\n",
       "    <tr>\n",
       "      <th>PassengerId</th>\n",
       "      <td>0</td>\n",
       "    </tr>\n",
       "    <tr>\n",
       "      <th>Survived</th>\n",
       "      <td>0</td>\n",
       "    </tr>\n",
       "    <tr>\n",
       "      <th>Pclass</th>\n",
       "      <td>0</td>\n",
       "    </tr>\n",
       "    <tr>\n",
       "      <th>Name</th>\n",
       "      <td>0</td>\n",
       "    </tr>\n",
       "    <tr>\n",
       "      <th>Sex</th>\n",
       "      <td>0</td>\n",
       "    </tr>\n",
       "    <tr>\n",
       "      <th>Age</th>\n",
       "      <td>177</td>\n",
       "    </tr>\n",
       "    <tr>\n",
       "      <th>SibSp</th>\n",
       "      <td>0</td>\n",
       "    </tr>\n",
       "    <tr>\n",
       "      <th>Parch</th>\n",
       "      <td>0</td>\n",
       "    </tr>\n",
       "    <tr>\n",
       "      <th>Ticket</th>\n",
       "      <td>0</td>\n",
       "    </tr>\n",
       "    <tr>\n",
       "      <th>Fare</th>\n",
       "      <td>0</td>\n",
       "    </tr>\n",
       "    <tr>\n",
       "      <th>Cabin</th>\n",
       "      <td>687</td>\n",
       "    </tr>\n",
       "    <tr>\n",
       "      <th>Embarked</th>\n",
       "      <td>2</td>\n",
       "    </tr>\n",
       "  </tbody>\n",
       "</table>\n",
       "</div>"
      ],
      "text/plain": [
       "               0\n",
       "PassengerId    0\n",
       "Survived       0\n",
       "Pclass         0\n",
       "Name           0\n",
       "Sex            0\n",
       "Age          177\n",
       "SibSp          0\n",
       "Parch          0\n",
       "Ticket         0\n",
       "Fare           0\n",
       "Cabin        687\n",
       "Embarked       2"
      ]
     },
     "execution_count": 8,
     "metadata": {},
     "output_type": "execute_result"
    }
   ],
   "source": [
    "titanic_data.isnull().sum().to_frame()"
   ]
  },
  {
   "cell_type": "code",
   "execution_count": 9,
   "id": "1d8a9e54",
   "metadata": {
    "execution": {
     "iopub.execute_input": "2022-11-21T16:51:47.871234Z",
     "iopub.status.busy": "2022-11-21T16:51:47.870237Z",
     "iopub.status.idle": "2022-11-21T16:51:47.887741Z",
     "shell.execute_reply": "2022-11-21T16:51:47.886630Z"
    },
    "papermill": {
     "duration": 0.028749,
     "end_time": "2022-11-21T16:51:47.890017",
     "exception": false,
     "start_time": "2022-11-21T16:51:47.861268",
     "status": "completed"
    },
    "tags": []
   },
   "outputs": [
    {
     "data": {
      "text/html": [
       "<div>\n",
       "<style scoped>\n",
       "    .dataframe tbody tr th:only-of-type {\n",
       "        vertical-align: middle;\n",
       "    }\n",
       "\n",
       "    .dataframe tbody tr th {\n",
       "        vertical-align: top;\n",
       "    }\n",
       "\n",
       "    .dataframe thead th {\n",
       "        text-align: right;\n",
       "    }\n",
       "</style>\n",
       "<table border=\"1\" class=\"dataframe\">\n",
       "  <thead>\n",
       "    <tr style=\"text-align: right;\">\n",
       "      <th></th>\n",
       "      <th>0</th>\n",
       "    </tr>\n",
       "  </thead>\n",
       "  <tbody>\n",
       "    <tr>\n",
       "      <th>PassengerId</th>\n",
       "      <td>0</td>\n",
       "    </tr>\n",
       "    <tr>\n",
       "      <th>Survived</th>\n",
       "      <td>0</td>\n",
       "    </tr>\n",
       "    <tr>\n",
       "      <th>Pclass</th>\n",
       "      <td>0</td>\n",
       "    </tr>\n",
       "    <tr>\n",
       "      <th>Name</th>\n",
       "      <td>0</td>\n",
       "    </tr>\n",
       "    <tr>\n",
       "      <th>Sex</th>\n",
       "      <td>0</td>\n",
       "    </tr>\n",
       "    <tr>\n",
       "      <th>Age</th>\n",
       "      <td>0</td>\n",
       "    </tr>\n",
       "    <tr>\n",
       "      <th>SibSp</th>\n",
       "      <td>0</td>\n",
       "    </tr>\n",
       "    <tr>\n",
       "      <th>Parch</th>\n",
       "      <td>0</td>\n",
       "    </tr>\n",
       "    <tr>\n",
       "      <th>Ticket</th>\n",
       "      <td>0</td>\n",
       "    </tr>\n",
       "    <tr>\n",
       "      <th>Fare</th>\n",
       "      <td>0</td>\n",
       "    </tr>\n",
       "    <tr>\n",
       "      <th>Embarked</th>\n",
       "      <td>2</td>\n",
       "    </tr>\n",
       "  </tbody>\n",
       "</table>\n",
       "</div>"
      ],
      "text/plain": [
       "             0\n",
       "PassengerId  0\n",
       "Survived     0\n",
       "Pclass       0\n",
       "Name         0\n",
       "Sex          0\n",
       "Age          0\n",
       "SibSp        0\n",
       "Parch        0\n",
       "Ticket       0\n",
       "Fare         0\n",
       "Embarked     2"
      ]
     },
     "execution_count": 9,
     "metadata": {},
     "output_type": "execute_result"
    }
   ],
   "source": [
    "#we can't use cabin data because it is majority in the data set so i will use other attributes\n",
    "#i want to change null age to mean age values\n",
    "\n",
    "mean = titanic_data['Age'].mean()\n",
    "titanic_data['Age'].replace(np.nan,mean,inplace=True)\n",
    "\n",
    "#dropping the cabin column beacuse it affects aour data set without values\n",
    "titanic_data.drop(['Cabin'], axis=1, inplace=True)\n",
    "\n",
    "titanic_data.isnull().sum().to_frame()"
   ]
  },
  {
   "cell_type": "code",
   "execution_count": 10,
   "id": "c812ccb4",
   "metadata": {},
   "outputs": [],
   "source": [
    "titanic_data['Embarked'].replace(np.nan,'S',inplace=True)"
   ]
  },
  {
   "cell_type": "code",
   "execution_count": 11,
   "id": "d362cdfd",
   "metadata": {
    "execution": {
     "iopub.execute_input": "2022-11-21T16:51:47.911304Z",
     "iopub.status.busy": "2022-11-21T16:51:47.910587Z",
     "iopub.status.idle": "2022-11-21T16:51:49.067382Z",
     "shell.execute_reply": "2022-11-21T16:51:49.066235Z"
    },
    "papermill": {
     "duration": 1.170495,
     "end_time": "2022-11-21T16:51:49.069873",
     "exception": false,
     "start_time": "2022-11-21T16:51:47.899378",
     "status": "completed"
    },
    "tags": []
   },
   "outputs": [
    {
     "name": "stdout",
     "output_type": "stream",
     "text": [
      "<class 'pandas.core.frame.DataFrame'>\n",
      "RangeIndex: 891 entries, 0 to 890\n",
      "Data columns (total 10 columns):\n",
      " #   Column      Non-Null Count  Dtype  \n",
      "---  ------      --------------  -----  \n",
      " 0   Pclass      891 non-null    int64  \n",
      " 1   Embarked_C  891 non-null    uint8  \n",
      " 2   Embarked_Q  891 non-null    uint8  \n",
      " 3   Embarked_S  891 non-null    uint8  \n",
      " 4   Sex_female  891 non-null    uint8  \n",
      " 5   Sex_male    891 non-null    uint8  \n",
      " 6   Age         891 non-null    float64\n",
      " 7   Fare        891 non-null    float64\n",
      " 8   Parch       891 non-null    int64  \n",
      " 9   SibSp       891 non-null    int64  \n",
      "dtypes: float64(2), int64(3), uint8(5)\n",
      "memory usage: 39.3 KB\n"
     ]
    }
   ],
   "source": [
    "#importing test split\n",
    "from sklearn.model_selection import train_test_split\n",
    "\n",
    "#to standartilise our data\n",
    "from sklearn import preprocessing\n",
    "\n",
    "#creating target variables\n",
    "y = titanic_data.Survived\n",
    "\n",
    "#creating feature set\n",
    "features = ['Age','Fare','Parch','SibSp']\n",
    "\n",
    "#differing categorical variables into diffrent columns to calculate better\n",
    "X = pd.get_dummies(titanic_data[['Embarked','Sex','Pclass']])\n",
    "X = pd.concat([X,titanic_data[features]], axis=1)\n",
    "\n",
    "X.info()"
   ]
  },
  {
   "cell_type": "markdown",
   "id": "fd228014",
   "metadata": {
    "papermill": {
     "duration": 0.007678,
     "end_time": "2022-11-21T16:51:49.085332",
     "exception": false,
     "start_time": "2022-11-21T16:51:49.077654",
     "status": "completed"
    },
    "tags": []
   },
   "source": [
    "**checking the data types to prevent any calculation error**"
   ]
  },
  {
   "cell_type": "code",
   "execution_count": 12,
   "id": "7286039e",
   "metadata": {
    "execution": {
     "iopub.execute_input": "2022-11-21T16:51:49.103125Z",
     "iopub.status.busy": "2022-11-21T16:51:49.102004Z",
     "iopub.status.idle": "2022-11-21T16:51:49.114021Z",
     "shell.execute_reply": "2022-11-21T16:51:49.112884Z"
    },
    "papermill": {
     "duration": 0.024009,
     "end_time": "2022-11-21T16:51:49.116861",
     "exception": false,
     "start_time": "2022-11-21T16:51:49.092852",
     "status": "completed"
    },
    "tags": []
   },
   "outputs": [],
   "source": [
    "#standarting our data \n",
    "transform = preprocessing.StandardScaler()\n",
    "\n",
    "X = transform.fit_transform(X)\n",
    "\n",
    "#splitting the data\n",
    "train_x, test_x, train_y, test_y = train_test_split(X,y,test_size = 0.3, random_state=1)"
   ]
  },
  {
   "cell_type": "code",
   "execution_count": 13,
   "id": "40524ef3",
   "metadata": {
    "execution": {
     "iopub.execute_input": "2022-11-21T16:51:49.135028Z",
     "iopub.status.busy": "2022-11-21T16:51:49.133945Z",
     "iopub.status.idle": "2022-11-21T16:51:49.233560Z",
     "shell.execute_reply": "2022-11-21T16:51:49.232692Z"
    },
    "papermill": {
     "duration": 0.111554,
     "end_time": "2022-11-21T16:51:49.236333",
     "exception": false,
     "start_time": "2022-11-21T16:51:49.124779",
     "status": "completed"
    },
    "tags": []
   },
   "outputs": [
    {
     "name": "stdout",
     "output_type": "stream",
     "text": [
      "f1 score: 0.7620152141636457\n",
      "accuracy score:  0.7723880597014925\n"
     ]
    }
   ],
   "source": [
    "#trying support vector machine\n",
    "from sklearn import svm\n",
    "from sklearn.metrics import accuracy_score, f1_score\n",
    "\n",
    "clf = svm.SVC(kernel='rbf')\n",
    "clf.fit(train_x, train_y)\n",
    "predictions = clf.predict(test_x)\n",
    "\n",
    "print('f1 score:',f1_score(test_y, predictions, average='weighted')) \n",
    "print('accuracy score: ',accuracy_score(test_y,predictions))"
   ]
  },
  {
   "cell_type": "code",
   "execution_count": 14,
   "id": "ba5d9909",
   "metadata": {
    "execution": {
     "iopub.execute_input": "2022-11-21T16:51:49.255400Z",
     "iopub.status.busy": "2022-11-21T16:51:49.254995Z",
     "iopub.status.idle": "2022-11-21T16:51:49.325197Z",
     "shell.execute_reply": "2022-11-21T16:51:49.323736Z"
    },
    "papermill": {
     "duration": 0.082911,
     "end_time": "2022-11-21T16:51:49.328360",
     "exception": false,
     "start_time": "2022-11-21T16:51:49.245449",
     "status": "completed"
    },
    "tags": []
   },
   "outputs": [
    {
     "name": "stdout",
     "output_type": "stream",
     "text": [
      "ACCURACY SCORE OF THE MODEL IS :  0.7686567164179104\n",
      "JACCARD INDEX FOR MODEL IS:  0.5407407407407407\n",
      "F1 VALUE FOR MODEL IS :  0.7019230769230769\n"
     ]
    }
   ],
   "source": [
    "#trying diffrent k nearest neighbors:\n",
    "from sklearn.neighbors import KNeighborsClassifier\n",
    "from sklearn.metrics import jaccard_score\n",
    "\n",
    "KNN = KNeighborsClassifier(n_neighbors=3).fit(train_x,train_y)\n",
    "predictions = KNN.predict(test_x)\n",
    "\n",
    "KNN_Accuracy_Score = accuracy_score(predictions,test_y)\n",
    "KNN_JaccardIndex = jaccard_score(predictions,test_y)\n",
    "KNN_F1_Score = f1_score(predictions,test_y)\n",
    "\n",
    "print('ACCURACY SCORE OF THE MODEL IS : ',KNN_Accuracy_Score)\n",
    "print('JACCARD INDEX FOR MODEL IS: ', KNN_JaccardIndex)\n",
    "print('F1 VALUE FOR MODEL IS : ', KNN_F1_Score)"
   ]
  },
  {
   "cell_type": "code",
   "execution_count": 15,
   "id": "d3cfe844",
   "metadata": {
    "execution": {
     "iopub.execute_input": "2022-11-21T16:51:49.347316Z",
     "iopub.status.busy": "2022-11-21T16:51:49.346416Z",
     "iopub.status.idle": "2022-11-21T16:51:49.351652Z",
     "shell.execute_reply": "2022-11-21T16:51:49.350810Z"
    },
    "papermill": {
     "duration": 0.017074,
     "end_time": "2022-11-21T16:51:49.353761",
     "exception": false,
     "start_time": "2022-11-21T16:51:49.336687",
     "status": "completed"
    },
    "tags": []
   },
   "outputs": [],
   "source": [
    "#i also want to try IBM's fast machine learning library "
   ]
  },
  {
   "cell_type": "code",
   "execution_count": 16,
   "id": "61157e09",
   "metadata": {
    "execution": {
     "iopub.execute_input": "2022-11-21T16:52:02.817115Z",
     "iopub.status.busy": "2022-11-21T16:52:02.816409Z",
     "iopub.status.idle": "2022-11-21T16:52:38.234218Z",
     "shell.execute_reply": "2022-11-21T16:52:38.232253Z"
    },
    "papermill": {
     "duration": 35.445416,
     "end_time": "2022-11-21T16:52:38.251599",
     "exception": false,
     "start_time": "2022-11-21T16:52:02.806183",
     "status": "completed"
    },
    "tags": []
   },
   "outputs": [
    {
     "data": {
      "text/html": [
       "<style>#sk-container-id-1 {color: black;background-color: white;}#sk-container-id-1 pre{padding: 0;}#sk-container-id-1 div.sk-toggleable {background-color: white;}#sk-container-id-1 label.sk-toggleable__label {cursor: pointer;display: block;width: 100%;margin-bottom: 0;padding: 0.3em;box-sizing: border-box;text-align: center;}#sk-container-id-1 label.sk-toggleable__label-arrow:before {content: \"▸\";float: left;margin-right: 0.25em;color: #696969;}#sk-container-id-1 label.sk-toggleable__label-arrow:hover:before {color: black;}#sk-container-id-1 div.sk-estimator:hover label.sk-toggleable__label-arrow:before {color: black;}#sk-container-id-1 div.sk-toggleable__content {max-height: 0;max-width: 0;overflow: hidden;text-align: left;background-color: #f0f8ff;}#sk-container-id-1 div.sk-toggleable__content pre {margin: 0.2em;color: black;border-radius: 0.25em;background-color: #f0f8ff;}#sk-container-id-1 input.sk-toggleable__control:checked~div.sk-toggleable__content {max-height: 200px;max-width: 100%;overflow: auto;}#sk-container-id-1 input.sk-toggleable__control:checked~label.sk-toggleable__label-arrow:before {content: \"▾\";}#sk-container-id-1 div.sk-estimator input.sk-toggleable__control:checked~label.sk-toggleable__label {background-color: #d4ebff;}#sk-container-id-1 div.sk-label input.sk-toggleable__control:checked~label.sk-toggleable__label {background-color: #d4ebff;}#sk-container-id-1 input.sk-hidden--visually {border: 0;clip: rect(1px 1px 1px 1px);clip: rect(1px, 1px, 1px, 1px);height: 1px;margin: -1px;overflow: hidden;padding: 0;position: absolute;width: 1px;}#sk-container-id-1 div.sk-estimator {font-family: monospace;background-color: #f0f8ff;border: 1px dotted black;border-radius: 0.25em;box-sizing: border-box;margin-bottom: 0.5em;}#sk-container-id-1 div.sk-estimator:hover {background-color: #d4ebff;}#sk-container-id-1 div.sk-parallel-item::after {content: \"\";width: 100%;border-bottom: 1px solid gray;flex-grow: 1;}#sk-container-id-1 div.sk-label:hover label.sk-toggleable__label {background-color: #d4ebff;}#sk-container-id-1 div.sk-serial::before {content: \"\";position: absolute;border-left: 1px solid gray;box-sizing: border-box;top: 0;bottom: 0;left: 50%;z-index: 0;}#sk-container-id-1 div.sk-serial {display: flex;flex-direction: column;align-items: center;background-color: white;padding-right: 0.2em;padding-left: 0.2em;position: relative;}#sk-container-id-1 div.sk-item {position: relative;z-index: 1;}#sk-container-id-1 div.sk-parallel {display: flex;align-items: stretch;justify-content: center;background-color: white;position: relative;}#sk-container-id-1 div.sk-item::before, #sk-container-id-1 div.sk-parallel-item::before {content: \"\";position: absolute;border-left: 1px solid gray;box-sizing: border-box;top: 0;bottom: 0;left: 50%;z-index: -1;}#sk-container-id-1 div.sk-parallel-item {display: flex;flex-direction: column;z-index: 1;position: relative;background-color: white;}#sk-container-id-1 div.sk-parallel-item:first-child::after {align-self: flex-end;width: 50%;}#sk-container-id-1 div.sk-parallel-item:last-child::after {align-self: flex-start;width: 50%;}#sk-container-id-1 div.sk-parallel-item:only-child::after {width: 0;}#sk-container-id-1 div.sk-dashed-wrapped {border: 1px dashed gray;margin: 0 0.4em 0.5em 0.4em;box-sizing: border-box;padding-bottom: 0.4em;background-color: white;}#sk-container-id-1 div.sk-label label {font-family: monospace;font-weight: bold;display: inline-block;line-height: 1.2em;}#sk-container-id-1 div.sk-label-container {text-align: center;}#sk-container-id-1 div.sk-container {/* jupyter's `normalize.less` sets `[hidden] { display: none; }` but bootstrap.min.css set `[hidden] { display: none !important; }` so we also need the `!important` here to be able to override the default hidden behavior on the sphinx rendered scikit-learn.org. See: https://github.com/scikit-learn/scikit-learn/issues/21755 */display: inline-block !important;position: relative;}#sk-container-id-1 div.sk-text-repr-fallback {display: none;}</style><div id=\"sk-container-id-1\" class=\"sk-top-container\"><div class=\"sk-text-repr-fallback\"><pre>GridSearchCV(cv=30, estimator=SupportVectorMachine(), n_jobs=-1,\n",
       "             param_grid={&#x27;class_weight&#x27;: [&#x27;balanced&#x27;, None],\n",
       "                         &#x27;gamma&#x27;: array([1.00000000e-02, 2.78255940e-02, 7.74263683e-02, 2.15443469e-01,\n",
       "       5.99484250e-01, 1.66810054e+00, 4.64158883e+00, 1.29154967e+01,\n",
       "       3.59381366e+01, 1.00000000e+02]),\n",
       "                         &#x27;kernel&#x27;: [&#x27;linear&#x27;, &#x27;rbf&#x27;],\n",
       "                         &#x27;loss&#x27;: [&#x27;hinge&#x27;, &#x27;squared_hinge&#x27;],\n",
       "                         &#x27;n_components&#x27;: [100, 150, 200, 300, 350]})</pre><b>In a Jupyter environment, please rerun this cell to show the HTML representation or trust the notebook. <br />On GitHub, the HTML representation is unable to render, please try loading this page with nbviewer.org.</b></div><div class=\"sk-container\" hidden><div class=\"sk-item sk-dashed-wrapped\"><div class=\"sk-label-container\"><div class=\"sk-label sk-toggleable\"><input class=\"sk-toggleable__control sk-hidden--visually\" id=\"sk-estimator-id-1\" type=\"checkbox\" ><label for=\"sk-estimator-id-1\" class=\"sk-toggleable__label sk-toggleable__label-arrow\">GridSearchCV</label><div class=\"sk-toggleable__content\"><pre>GridSearchCV(cv=30, estimator=SupportVectorMachine(), n_jobs=-1,\n",
       "             param_grid={&#x27;class_weight&#x27;: [&#x27;balanced&#x27;, None],\n",
       "                         &#x27;gamma&#x27;: array([1.00000000e-02, 2.78255940e-02, 7.74263683e-02, 2.15443469e-01,\n",
       "       5.99484250e-01, 1.66810054e+00, 4.64158883e+00, 1.29154967e+01,\n",
       "       3.59381366e+01, 1.00000000e+02]),\n",
       "                         &#x27;kernel&#x27;: [&#x27;linear&#x27;, &#x27;rbf&#x27;],\n",
       "                         &#x27;loss&#x27;: [&#x27;hinge&#x27;, &#x27;squared_hinge&#x27;],\n",
       "                         &#x27;n_components&#x27;: [100, 150, 200, 300, 350]})</pre></div></div></div><div class=\"sk-parallel\"><div class=\"sk-parallel-item\"><div class=\"sk-item\"><div class=\"sk-label-container\"><div class=\"sk-label sk-toggleable\"><input class=\"sk-toggleable__control sk-hidden--visually\" id=\"sk-estimator-id-2\" type=\"checkbox\" ><label for=\"sk-estimator-id-2\" class=\"sk-toggleable__label sk-toggleable__label-arrow\">estimator: SupportVectorMachine</label><div class=\"sk-toggleable__content\"><pre>SupportVectorMachine()</pre></div></div></div><div class=\"sk-serial\"><div class=\"sk-item\"><div class=\"sk-estimator sk-toggleable\"><input class=\"sk-toggleable__control sk-hidden--visually\" id=\"sk-estimator-id-3\" type=\"checkbox\" ><label for=\"sk-estimator-id-3\" class=\"sk-toggleable__label sk-toggleable__label-arrow\">SupportVectorMachine</label><div class=\"sk-toggleable__content\"><pre>SupportVectorMachine()</pre></div></div></div></div></div></div></div></div></div></div>"
      ],
      "text/plain": [
       "GridSearchCV(cv=30, estimator=SupportVectorMachine(), n_jobs=-1,\n",
       "             param_grid={'class_weight': ['balanced', None],\n",
       "                         'gamma': array([1.00000000e-02, 2.78255940e-02, 7.74263683e-02, 2.15443469e-01,\n",
       "       5.99484250e-01, 1.66810054e+00, 4.64158883e+00, 1.29154967e+01,\n",
       "       3.59381366e+01, 1.00000000e+02]),\n",
       "                         'kernel': ['linear', 'rbf'],\n",
       "                         'loss': ['hinge', 'squared_hinge'],\n",
       "                         'n_components': [100, 150, 200, 300, 350]})"
      ]
     },
     "execution_count": 16,
     "metadata": {},
     "output_type": "execute_result"
    }
   ],
   "source": [
    "import snapml.SupportVectorMachine\n",
    "from sklearn.model_selection import GridSearchCV\n",
    "#i am tuning this model using sklearn's gridsearchcv\n",
    "model = snapml.SupportVectorMachine()\n",
    "\n",
    "parameters = {'kernel':['linear', 'rbf'],'gamma':np.logspace(-2,2,10),'loss':['hinge','squared_hinge'],'class_weight':['balanced',None],\n",
    "              'n_components':[100,150,200,300,350],\n",
    "                                                                       }\n",
    "\n",
    "model_cv = GridSearchCV(model,parameters,refit=True,n_jobs=-1,cv=30)\n",
    "model_cv.fit(train_x,train_y)"
   ]
  },
  {
   "cell_type": "code",
   "execution_count": 17,
   "id": "c35bf6cd",
   "metadata": {
    "execution": {
     "iopub.execute_input": "2022-11-21T16:52:38.279224Z",
     "iopub.status.busy": "2022-11-21T16:52:38.278050Z",
     "iopub.status.idle": "2022-11-21T16:52:38.285969Z",
     "shell.execute_reply": "2022-11-21T16:52:38.284920Z"
    },
    "papermill": {
     "duration": 0.020437,
     "end_time": "2022-11-21T16:52:38.288148",
     "exception": false,
     "start_time": "2022-11-21T16:52:38.267711",
     "status": "completed"
    },
    "tags": []
   },
   "outputs": [
    {
     "data": {
      "text/plain": [
       "{'class_weight': None,\n",
       " 'gamma': 0.21544346900318834,\n",
       " 'kernel': 'rbf',\n",
       " 'loss': 'hinge',\n",
       " 'n_components': 350}"
      ]
     },
     "execution_count": 17,
     "metadata": {},
     "output_type": "execute_result"
    }
   ],
   "source": [
    "model_cv.best_params_"
   ]
  },
  {
   "cell_type": "code",
   "execution_count": 18,
   "id": "f8aaab64",
   "metadata": {
    "execution": {
     "iopub.execute_input": "2022-11-21T16:52:38.307700Z",
     "iopub.status.busy": "2022-11-21T16:52:38.307288Z",
     "iopub.status.idle": "2022-11-21T16:52:38.314308Z",
     "shell.execute_reply": "2022-11-21T16:52:38.313209Z"
    },
    "papermill": {
     "duration": 0.019708,
     "end_time": "2022-11-21T16:52:38.316801",
     "exception": false,
     "start_time": "2022-11-21T16:52:38.297093",
     "status": "completed"
    },
    "tags": []
   },
   "outputs": [
    {
     "data": {
      "text/plain": [
       "0.8554761904761905"
      ]
     },
     "execution_count": 18,
     "metadata": {},
     "output_type": "execute_result"
    }
   ],
   "source": [
    "model_cv.best_score_"
   ]
  },
  {
   "cell_type": "code",
   "execution_count": 19,
   "id": "01227613",
   "metadata": {
    "execution": {
     "iopub.execute_input": "2022-11-21T16:52:38.337455Z",
     "iopub.status.busy": "2022-11-21T16:52:38.336647Z",
     "iopub.status.idle": "2022-11-21T16:53:06.300034Z",
     "shell.execute_reply": "2022-11-21T16:53:06.298902Z"
    },
    "papermill": {
     "duration": 27.97803,
     "end_time": "2022-11-21T16:53:06.304028",
     "exception": false,
     "start_time": "2022-11-21T16:52:38.325998",
     "status": "completed"
    },
    "tags": []
   },
   "outputs": [
    {
     "data": {
      "text/html": [
       "<style>#sk-container-id-2 {color: black;background-color: white;}#sk-container-id-2 pre{padding: 0;}#sk-container-id-2 div.sk-toggleable {background-color: white;}#sk-container-id-2 label.sk-toggleable__label {cursor: pointer;display: block;width: 100%;margin-bottom: 0;padding: 0.3em;box-sizing: border-box;text-align: center;}#sk-container-id-2 label.sk-toggleable__label-arrow:before {content: \"▸\";float: left;margin-right: 0.25em;color: #696969;}#sk-container-id-2 label.sk-toggleable__label-arrow:hover:before {color: black;}#sk-container-id-2 div.sk-estimator:hover label.sk-toggleable__label-arrow:before {color: black;}#sk-container-id-2 div.sk-toggleable__content {max-height: 0;max-width: 0;overflow: hidden;text-align: left;background-color: #f0f8ff;}#sk-container-id-2 div.sk-toggleable__content pre {margin: 0.2em;color: black;border-radius: 0.25em;background-color: #f0f8ff;}#sk-container-id-2 input.sk-toggleable__control:checked~div.sk-toggleable__content {max-height: 200px;max-width: 100%;overflow: auto;}#sk-container-id-2 input.sk-toggleable__control:checked~label.sk-toggleable__label-arrow:before {content: \"▾\";}#sk-container-id-2 div.sk-estimator input.sk-toggleable__control:checked~label.sk-toggleable__label {background-color: #d4ebff;}#sk-container-id-2 div.sk-label input.sk-toggleable__control:checked~label.sk-toggleable__label {background-color: #d4ebff;}#sk-container-id-2 input.sk-hidden--visually {border: 0;clip: rect(1px 1px 1px 1px);clip: rect(1px, 1px, 1px, 1px);height: 1px;margin: -1px;overflow: hidden;padding: 0;position: absolute;width: 1px;}#sk-container-id-2 div.sk-estimator {font-family: monospace;background-color: #f0f8ff;border: 1px dotted black;border-radius: 0.25em;box-sizing: border-box;margin-bottom: 0.5em;}#sk-container-id-2 div.sk-estimator:hover {background-color: #d4ebff;}#sk-container-id-2 div.sk-parallel-item::after {content: \"\";width: 100%;border-bottom: 1px solid gray;flex-grow: 1;}#sk-container-id-2 div.sk-label:hover label.sk-toggleable__label {background-color: #d4ebff;}#sk-container-id-2 div.sk-serial::before {content: \"\";position: absolute;border-left: 1px solid gray;box-sizing: border-box;top: 0;bottom: 0;left: 50%;z-index: 0;}#sk-container-id-2 div.sk-serial {display: flex;flex-direction: column;align-items: center;background-color: white;padding-right: 0.2em;padding-left: 0.2em;position: relative;}#sk-container-id-2 div.sk-item {position: relative;z-index: 1;}#sk-container-id-2 div.sk-parallel {display: flex;align-items: stretch;justify-content: center;background-color: white;position: relative;}#sk-container-id-2 div.sk-item::before, #sk-container-id-2 div.sk-parallel-item::before {content: \"\";position: absolute;border-left: 1px solid gray;box-sizing: border-box;top: 0;bottom: 0;left: 50%;z-index: -1;}#sk-container-id-2 div.sk-parallel-item {display: flex;flex-direction: column;z-index: 1;position: relative;background-color: white;}#sk-container-id-2 div.sk-parallel-item:first-child::after {align-self: flex-end;width: 50%;}#sk-container-id-2 div.sk-parallel-item:last-child::after {align-self: flex-start;width: 50%;}#sk-container-id-2 div.sk-parallel-item:only-child::after {width: 0;}#sk-container-id-2 div.sk-dashed-wrapped {border: 1px dashed gray;margin: 0 0.4em 0.5em 0.4em;box-sizing: border-box;padding-bottom: 0.4em;background-color: white;}#sk-container-id-2 div.sk-label label {font-family: monospace;font-weight: bold;display: inline-block;line-height: 1.2em;}#sk-container-id-2 div.sk-label-container {text-align: center;}#sk-container-id-2 div.sk-container {/* jupyter's `normalize.less` sets `[hidden] { display: none; }` but bootstrap.min.css set `[hidden] { display: none !important; }` so we also need the `!important` here to be able to override the default hidden behavior on the sphinx rendered scikit-learn.org. See: https://github.com/scikit-learn/scikit-learn/issues/21755 */display: inline-block !important;position: relative;}#sk-container-id-2 div.sk-text-repr-fallback {display: none;}</style><div id=\"sk-container-id-2\" class=\"sk-top-container\"><div class=\"sk-text-repr-fallback\"><pre>GridSearchCV(cv=30, estimator=SupportVectorMachine(), n_jobs=-1,\n",
       "             param_grid={&#x27;class_weight&#x27;: [&#x27;balanced&#x27;, None],\n",
       "                         &#x27;gamma&#x27;: array([1.00000000e-02, 2.78255940e-02, 7.74263683e-02, 2.15443469e-01,\n",
       "       5.99484250e-01, 1.66810054e+00, 4.64158883e+00, 1.29154967e+01,\n",
       "       3.59381366e+01, 1.00000000e+02]),\n",
       "                         &#x27;kernel&#x27;: [&#x27;linear&#x27;, &#x27;rbf&#x27;],\n",
       "                         &#x27;loss&#x27;: [&#x27;hinge&#x27;, &#x27;squared_hinge&#x27;],\n",
       "                         &#x27;n_components&#x27;: [100, 150, 200, 300, 350]})</pre><b>In a Jupyter environment, please rerun this cell to show the HTML representation or trust the notebook. <br />On GitHub, the HTML representation is unable to render, please try loading this page with nbviewer.org.</b></div><div class=\"sk-container\" hidden><div class=\"sk-item sk-dashed-wrapped\"><div class=\"sk-label-container\"><div class=\"sk-label sk-toggleable\"><input class=\"sk-toggleable__control sk-hidden--visually\" id=\"sk-estimator-id-4\" type=\"checkbox\" ><label for=\"sk-estimator-id-4\" class=\"sk-toggleable__label sk-toggleable__label-arrow\">GridSearchCV</label><div class=\"sk-toggleable__content\"><pre>GridSearchCV(cv=30, estimator=SupportVectorMachine(), n_jobs=-1,\n",
       "             param_grid={&#x27;class_weight&#x27;: [&#x27;balanced&#x27;, None],\n",
       "                         &#x27;gamma&#x27;: array([1.00000000e-02, 2.78255940e-02, 7.74263683e-02, 2.15443469e-01,\n",
       "       5.99484250e-01, 1.66810054e+00, 4.64158883e+00, 1.29154967e+01,\n",
       "       3.59381366e+01, 1.00000000e+02]),\n",
       "                         &#x27;kernel&#x27;: [&#x27;linear&#x27;, &#x27;rbf&#x27;],\n",
       "                         &#x27;loss&#x27;: [&#x27;hinge&#x27;, &#x27;squared_hinge&#x27;],\n",
       "                         &#x27;n_components&#x27;: [100, 150, 200, 300, 350]})</pre></div></div></div><div class=\"sk-parallel\"><div class=\"sk-parallel-item\"><div class=\"sk-item\"><div class=\"sk-label-container\"><div class=\"sk-label sk-toggleable\"><input class=\"sk-toggleable__control sk-hidden--visually\" id=\"sk-estimator-id-5\" type=\"checkbox\" ><label for=\"sk-estimator-id-5\" class=\"sk-toggleable__label sk-toggleable__label-arrow\">estimator: SupportVectorMachine</label><div class=\"sk-toggleable__content\"><pre>SupportVectorMachine()</pre></div></div></div><div class=\"sk-serial\"><div class=\"sk-item\"><div class=\"sk-estimator sk-toggleable\"><input class=\"sk-toggleable__control sk-hidden--visually\" id=\"sk-estimator-id-6\" type=\"checkbox\" ><label for=\"sk-estimator-id-6\" class=\"sk-toggleable__label sk-toggleable__label-arrow\">SupportVectorMachine</label><div class=\"sk-toggleable__content\"><pre>SupportVectorMachine()</pre></div></div></div></div></div></div></div></div></div></div>"
      ],
      "text/plain": [
       "GridSearchCV(cv=30, estimator=SupportVectorMachine(), n_jobs=-1,\n",
       "             param_grid={'class_weight': ['balanced', None],\n",
       "                         'gamma': array([1.00000000e-02, 2.78255940e-02, 7.74263683e-02, 2.15443469e-01,\n",
       "       5.99484250e-01, 1.66810054e+00, 4.64158883e+00, 1.29154967e+01,\n",
       "       3.59381366e+01, 1.00000000e+02]),\n",
       "                         'kernel': ['linear', 'rbf'],\n",
       "                         'loss': ['hinge', 'squared_hinge'],\n",
       "                         'n_components': [100, 150, 200, 300, 350]})"
      ]
     },
     "execution_count": 19,
     "metadata": {},
     "output_type": "execute_result"
    }
   ],
   "source": [
    "#as we can see te best score for this model is above i have to use that parameters to predict\n",
    "#i can use all x data to improve model again\n",
    "model_cv.fit(X,y)"
   ]
  },
  {
   "cell_type": "code",
   "execution_count": 20,
   "id": "8b93b058",
   "metadata": {
    "execution": {
     "iopub.execute_input": "2022-11-21T16:53:06.345641Z",
     "iopub.status.busy": "2022-11-21T16:53:06.345226Z",
     "iopub.status.idle": "2022-11-21T16:53:06.360870Z",
     "shell.execute_reply": "2022-11-21T16:53:06.360072Z"
    },
    "papermill": {
     "duration": 0.035757,
     "end_time": "2022-11-21T16:53:06.363356",
     "exception": false,
     "start_time": "2022-11-21T16:53:06.327599",
     "status": "completed"
    },
    "tags": []
   },
   "outputs": [
    {
     "name": "stdout",
     "output_type": "stream",
     "text": [
      "<class 'pandas.core.frame.DataFrame'>\n",
      "RangeIndex: 418 entries, 0 to 417\n",
      "Data columns (total 11 columns):\n",
      " #   Column       Non-Null Count  Dtype  \n",
      "---  ------       --------------  -----  \n",
      " 0   PassengerId  418 non-null    int64  \n",
      " 1   Pclass       418 non-null    int64  \n",
      " 2   Name         418 non-null    object \n",
      " 3   Sex          418 non-null    object \n",
      " 4   Age          332 non-null    float64\n",
      " 5   SibSp        418 non-null    int64  \n",
      " 6   Parch        418 non-null    int64  \n",
      " 7   Ticket       418 non-null    object \n",
      " 8   Fare         417 non-null    float64\n",
      " 9   Cabin        91 non-null     object \n",
      " 10  Embarked     418 non-null    object \n",
      "dtypes: float64(2), int64(4), object(5)\n",
      "memory usage: 36.0+ KB\n"
     ]
    }
   ],
   "source": [
    "test_data.info()"
   ]
  },
  {
   "cell_type": "code",
   "execution_count": 21,
   "id": "c052a5d4",
   "metadata": {
    "execution": {
     "iopub.execute_input": "2022-11-21T16:53:06.384253Z",
     "iopub.status.busy": "2022-11-21T16:53:06.383170Z",
     "iopub.status.idle": "2022-11-21T16:53:06.419629Z",
     "shell.execute_reply": "2022-11-21T16:53:06.418091Z"
    },
    "papermill": {
     "duration": 0.052446,
     "end_time": "2022-11-21T16:53:06.425033",
     "exception": false,
     "start_time": "2022-11-21T16:53:06.372587",
     "status": "completed"
    },
    "tags": []
   },
   "outputs": [
    {
     "name": "stdout",
     "output_type": "stream",
     "text": [
      "<class 'pandas.core.frame.DataFrame'>\n",
      "RangeIndex: 418 entries, 0 to 417\n",
      "Data columns (total 10 columns):\n",
      " #   Column      Non-Null Count  Dtype  \n",
      "---  ------      --------------  -----  \n",
      " 0   Pclass      418 non-null    int64  \n",
      " 1   Embarked_C  418 non-null    uint8  \n",
      " 2   Embarked_Q  418 non-null    uint8  \n",
      " 3   Embarked_S  418 non-null    uint8  \n",
      " 4   Sex_female  418 non-null    uint8  \n",
      " 5   Sex_male    418 non-null    uint8  \n",
      " 6   Age         418 non-null    float64\n",
      " 7   Fare        418 non-null    float64\n",
      " 8   Parch       418 non-null    int64  \n",
      " 9   SibSp       418 non-null    int64  \n",
      "dtypes: float64(2), int64(3), uint8(5)\n",
      "memory usage: 18.5 KB\n"
     ]
    }
   ],
   "source": [
    "#preparing test data\n",
    "final_test_x = pd.get_dummies(test_data[['Embarked','Sex','Pclass']])\n",
    "final_test_x = pd.concat([final_test_x,test_data[features]], axis=1)\n",
    "#standarding our test data\n",
    "\n",
    "mean = final_test_x['Age'].mean()\n",
    "final_test_x['Age'].replace(np.nan,mean,inplace=True)\n",
    "mean = final_test_x['Fare'].mean()\n",
    "final_test_x['Fare'].replace(np.nan,mean,inplace=True)\n",
    "final_test_x.info()\n",
    "\n",
    "\n",
    "transform = preprocessing.StandardScaler()\n",
    "\n",
    "final_test_x = transform.fit_transform(final_test_x)\n",
    "\n",
    "#making predictions\n",
    "y_predictions = model_cv.predict(final_test_x)"
   ]
  },
  {
   "cell_type": "code",
   "execution_count": 22,
   "id": "9a14918a",
   "metadata": {
    "execution": {
     "iopub.execute_input": "2022-11-21T16:53:06.475645Z",
     "iopub.status.busy": "2022-11-21T16:53:06.474902Z",
     "iopub.status.idle": "2022-11-21T16:53:06.491218Z",
     "shell.execute_reply": "2022-11-21T16:53:06.489583Z"
    },
    "papermill": {
     "duration": 0.046508,
     "end_time": "2022-11-21T16:53:06.495424",
     "exception": false,
     "start_time": "2022-11-21T16:53:06.448916",
     "status": "completed"
    },
    "tags": []
   },
   "outputs": [],
   "source": [
    "output = pd.DataFrame({'PassengerId': test_data.PassengerId,\n",
    "                       'Survived': y_predictions})\n",
    "output.to_csv('submission.csv', index=False)"
   ]
  },
  {
   "cell_type": "code",
   "execution_count": 23,
   "id": "57f3de4f",
   "metadata": {
    "execution": {
     "iopub.execute_input": "2022-11-21T16:53:06.536889Z",
     "iopub.status.busy": "2022-11-21T16:53:06.536479Z",
     "iopub.status.idle": "2022-11-21T16:53:06.550148Z",
     "shell.execute_reply": "2022-11-21T16:53:06.548887Z"
    },
    "papermill": {
     "duration": 0.032657,
     "end_time": "2022-11-21T16:53:06.552570",
     "exception": false,
     "start_time": "2022-11-21T16:53:06.519913",
     "status": "completed"
    },
    "tags": []
   },
   "outputs": [
    {
     "data": {
      "text/html": [
       "<div>\n",
       "<style scoped>\n",
       "    .dataframe tbody tr th:only-of-type {\n",
       "        vertical-align: middle;\n",
       "    }\n",
       "\n",
       "    .dataframe tbody tr th {\n",
       "        vertical-align: top;\n",
       "    }\n",
       "\n",
       "    .dataframe thead th {\n",
       "        text-align: right;\n",
       "    }\n",
       "</style>\n",
       "<table border=\"1\" class=\"dataframe\">\n",
       "  <thead>\n",
       "    <tr style=\"text-align: right;\">\n",
       "      <th></th>\n",
       "      <th>PassengerId</th>\n",
       "      <th>Survived</th>\n",
       "    </tr>\n",
       "  </thead>\n",
       "  <tbody>\n",
       "    <tr>\n",
       "      <th>0</th>\n",
       "      <td>892</td>\n",
       "      <td>0</td>\n",
       "    </tr>\n",
       "    <tr>\n",
       "      <th>1</th>\n",
       "      <td>893</td>\n",
       "      <td>0</td>\n",
       "    </tr>\n",
       "    <tr>\n",
       "      <th>2</th>\n",
       "      <td>894</td>\n",
       "      <td>0</td>\n",
       "    </tr>\n",
       "    <tr>\n",
       "      <th>3</th>\n",
       "      <td>895</td>\n",
       "      <td>0</td>\n",
       "    </tr>\n",
       "    <tr>\n",
       "      <th>4</th>\n",
       "      <td>896</td>\n",
       "      <td>0</td>\n",
       "    </tr>\n",
       "    <tr>\n",
       "      <th>...</th>\n",
       "      <td>...</td>\n",
       "      <td>...</td>\n",
       "    </tr>\n",
       "    <tr>\n",
       "      <th>413</th>\n",
       "      <td>1305</td>\n",
       "      <td>0</td>\n",
       "    </tr>\n",
       "    <tr>\n",
       "      <th>414</th>\n",
       "      <td>1306</td>\n",
       "      <td>1</td>\n",
       "    </tr>\n",
       "    <tr>\n",
       "      <th>415</th>\n",
       "      <td>1307</td>\n",
       "      <td>0</td>\n",
       "    </tr>\n",
       "    <tr>\n",
       "      <th>416</th>\n",
       "      <td>1308</td>\n",
       "      <td>0</td>\n",
       "    </tr>\n",
       "    <tr>\n",
       "      <th>417</th>\n",
       "      <td>1309</td>\n",
       "      <td>0</td>\n",
       "    </tr>\n",
       "  </tbody>\n",
       "</table>\n",
       "<p>418 rows × 2 columns</p>\n",
       "</div>"
      ],
      "text/plain": [
       "     PassengerId  Survived\n",
       "0            892         0\n",
       "1            893         0\n",
       "2            894         0\n",
       "3            895         0\n",
       "4            896         0\n",
       "..           ...       ...\n",
       "413         1305         0\n",
       "414         1306         1\n",
       "415         1307         0\n",
       "416         1308         0\n",
       "417         1309         0\n",
       "\n",
       "[418 rows x 2 columns]"
      ]
     },
     "execution_count": 23,
     "metadata": {},
     "output_type": "execute_result"
    }
   ],
   "source": [
    "output"
   ]
  },
  {
   "cell_type": "markdown",
   "id": "c50d0395",
   "metadata": {
    "execution": {
     "iopub.status.busy": "2022-11-21T16:48:55.340900Z",
     "iopub.status.idle": "2022-11-21T16:48:55.341540Z",
     "shell.execute_reply": "2022-11-21T16:48:55.341255Z",
     "shell.execute_reply.started": "2022-11-21T16:48:55.341227Z"
    },
    "papermill": {
     "duration": 0.009941,
     "end_time": "2022-11-21T16:53:06.572431",
     "exception": false,
     "start_time": "2022-11-21T16:53:06.562490",
     "status": "completed"
    },
    "tags": []
   },
   "source": [
    "from sklearn.ensemble import RandomForestClassifier\n",
    "#use “balanced_subsample”\n",
    "rand_f = RandomForestClassifier(class_weight='balanced_subsample')\n",
    "rand_f.fit(X,y)\n",
    "y_predictions = rand_f.predict(final_test_x)\n",
    "output = pd.DataFrame({'PassengerId': test_data.PassengerId,\n",
    "                       'Survived': y_predictions})\n",
    "output.to_csv('submission.csv', index=False)"
   ]
  }
 ],
 "metadata": {
  "kernelspec": {
   "display_name": "Python 3.10.5 64-bit",
   "language": "python",
   "name": "python3"
  },
  "language_info": {
   "codemirror_mode": {
    "name": "ipython",
    "version": 3
   },
   "file_extension": ".py",
   "mimetype": "text/x-python",
   "name": "python",
   "nbconvert_exporter": "python",
   "pygments_lexer": "ipython3",
   "version": "3.10.5"
  },
  "papermill": {
   "default_parameters": {},
   "duration": 90.279014,
   "end_time": "2022-11-21T16:53:09.209653",
   "environment_variables": {},
   "exception": null,
   "input_path": "__notebook__.ipynb",
   "output_path": "__notebook__.ipynb",
   "parameters": {},
   "start_time": "2022-11-21T16:51:38.930639",
   "version": "2.3.4"
  },
  "vscode": {
   "interpreter": {
    "hash": "837b26941398692a17c85616173b2254707ee59b75ba91fa6b2e7847b21d53ef"
   }
  }
 },
 "nbformat": 4,
 "nbformat_minor": 5
}
